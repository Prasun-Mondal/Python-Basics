{
  "nbformat": 4,
  "nbformat_minor": 0,
  "metadata": {
    "colab": {
      "provenance": []
    },
    "kernelspec": {
      "name": "python3",
      "display_name": "Python 3"
    },
    "language_info": {
      "name": "python"
    }
  },
  "cells": [
    {
      "cell_type": "code",
      "source": [],
      "metadata": {
        "id": "GfEVIRgAfjVU"
      },
      "execution_count": null,
      "outputs": []
    },
    {
      "cell_type": "markdown",
      "source": [
        "## Python Basics Questions\n",
        "\n",
        "Q1> What is Python, and why is it popular?\n",
        "\n",
        "Ans> Python is a high-level, interpreted programming language known for its simplicity and readability, making it ideal for beginners. It has a wide range of applications, including web development, data science, and automation, supported by powerful libraries and frameworks. Python is cross-platform and integrates well with other languages. Its active community and open-source nature drive its growth and popularity. Python's ease of learning and versatility have made it a top choice for developers and companies worldwide.\n",
        "\n",
        "Q2> What is an interpreter in Python?\n",
        "\n",
        "Ans> An interpreter in Python is a program that reads and executes Python code line-by-line. Unlike a compiler, which translates the entire source code into machine code before execution, an interpreter directly executes the instructions in the Python code without converting it to machine-level code all at once.\n",
        "\n",
        "Q3> What are pre-defined keywords in Python?\n",
        "\n",
        "Ans> Pre-defined keywords in Python are reserved words that have special meanings and cannot be used as identifiers (such as variable names, function names, or class names). These keywords are part of the Python language syntax and define the structure of the language. Examples are - 'False','None','True','and','type'.\n",
        "\n",
        "Q4> Can keywords be used as variable names?\n",
        "\n",
        "Ans> No, keywords cannot be used as variable names in Python. Keywords are reserved words that have special meanings in the language and are used to define the syntax and structure of Python programs. Since they are integral to how the language functions, using them as variable names would cause a syntax error.\n",
        "\n",
        "Q5> What is mutability in Python?\n",
        "\n",
        "Ans> Mutability in Python refers to the ability of an object to be changed or modified after it is created. In Python, some objects are mutable, meaning their content or state can be altered, while others are immutable, meaning their state cannot be changed once they are created. Example - List is a mutable object and str is a immutable object.\n",
        "\n",
        "Q6> Why are lists mutable, but tuples are immutable?\n",
        "\n",
        "Ans> Lists are mutable in Python because they are designed for dynamic, changeable collections, allowing elements to be added, removed, or modified. Tuples, on the other hand, are immutable, meaning their elements cannot be changed after creation. This makes tuples more memory- and performance-efficient and suitable for constant data that shouldn't change. The immutability of tuples also allows them to be used as dictionary keys or set elements, unlike lists. Overall, lists offer flexibility, while tuples provide safety and efficiency for fixed collections.\n",
        "\n",
        "Q7> What is the difference between “==” and “is” operators in Python?\n",
        "\n",
        "Ans> \"==\": This operator checks if the values of two objects are equal. It compares the data stored in the objects, not the objects themselves.\n",
        "Example: a == b will return True if the values of a and b are the same.\n",
        "\n",
        "\"is\": This operator checks if two objects reference the same memory location\n",
        "(i.e., if they are the same object).\n",
        "Example: a is b will return True if a and b are pointing to the same object in memory.\n",
        "\n",
        "Q8> What are logical operators in Python?\n",
        "\n",
        "Ans> Logical operators are used to combine conditional statements and perform logical operations on them:\n",
        "\n",
        "and: Returns True if both conditions are true.\n",
        "or: Returns True if at least one of the conditions is true.\n",
        "not: Reverses the result, returns True if the condition is false, and False if the condition is true.\n",
        "\n",
        "Q9> What is type casting in Python?\n",
        "\n",
        "Ans> Type casting refers to converting one data type to another. In Python, this can be done explicitly (manually) or implicitly (automatically by Python).\n",
        "\n",
        "There are two types of type casting -\n",
        "Implicit Type Casting\n",
        "Explicit Type Casting\n",
        "\n",
        "Q10> What is the difference between implicit and explicit type casting?\n",
        "\n",
        "Ans> Implicit Type Casting (Automatic Conversion): This happens when Python automatically converts one data type to another. It typically occurs when converting a smaller data type to a larger data type, like converting an int to a float.\n",
        "Example: int to float, char to int (in some languages, not Python specifically).\n",
        "\n",
        "Explicit Type Casting (Manual Conversion): This occurs when the programmer explicitly converts one data type to another using functions like int(), str(), float(), etc.\n",
        "Example: float(10) converts the integer 10 to a float.\n",
        "\n",
        "Q11> What is the purpose of conditional statements in Python?\n",
        "\n",
        "Ans> Conditional statements allow you to execute certain blocks of code based on whether a condition is True or False. They are used for decision-making, controlling the flow of execution.\n",
        "\n",
        "if: Executes a block of code if the condition is true.\n",
        "else: Executes a block of code if the condition in the if statement is false.\n",
        "elif: (Else-If) Checks multiple conditions; executes if its condition is true, and it’s evaluated only if previous if/elif conditions are false.\n",
        "\n",
        "Q12> How does the elif statement work?\n",
        "\n",
        "Ans> The elif (else-if) statement checks multiple conditions in sequence:\n",
        "\n",
        "If the condition of if is False, the program checks the condition of elif.\n",
        "If the elif condition is True, the corresponding block of code is executed.\n",
        "If all conditions are False, the else block (if present) will execute.\n",
        "Example(with a code):\n",
        "\n",
        "x = 5\n",
        "if x > 10:\n",
        "    print(\"Greater than 10\")\n",
        "elif x == 5:\n",
        "    print(\"Equal to 5\")\n",
        "else:\n",
        "    print(\"Less than 5\")\n",
        "\n",
        "In this case, the output will be Equal to 5.\n",
        "\n",
        "Q13> What is the difference between for and while loops?\n",
        "\n",
        "Ans> for loop: Iterates over a sequence (like a list, tuple, or string), a range of numbers, or any iterable object. It is used when the number of iterations is known or fixed.\n",
        "\n",
        "Example: for i in range(5): loops 5 times.\n",
        "\n",
        "while loop: Repeats the block of code as long as a given condition is true. It is used when the number of iterations is not known in advance, and the loop continues until the condition becomes False.\n",
        "\n",
        "Example: while x < 10:\n",
        "    x += 1\n",
        "\n",
        "Q14>  Describe a scenario where a while loop is more suitable than a for loop.\n",
        "\n",
        "Ans> A while loop is more suitable when the number of iterations is not known and the loop should continue until a specific condition is met. For example, reading from a file until the end is reached or waiting for user input until a valid response is given.\n",
        "Example(python code):\n",
        "\n",
        "'''Waiting for valid user input'''\n",
        "\n",
        "user_input = ''\n",
        "\n",
        "while user_input != 'yes' and user_input != 'no':\n",
        "    user_input = input(\"Please enter 'yes' or 'no': \")\n",
        "\n",
        "\n"
      ],
      "metadata": {
        "id": "DYFeiAd9ZKz7"
      }
    },
    {
      "cell_type": "markdown",
      "source": [
        "# Practical Questions\n",
        "\n",
        "Q1> Write a Python program to print \"Hello, World!\"."
      ],
      "metadata": {
        "id": "y4xRSLUWfwB9"
      }
    },
    {
      "cell_type": "code",
      "source": [
        "print(\"Hello, World!\")"
      ],
      "metadata": {
        "colab": {
          "base_uri": "https://localhost:8080/"
        },
        "id": "gv0NwyR5gAhD",
        "outputId": "2da5fe4d-7b82-4143-e34f-a567dcb63978"
      },
      "execution_count": null,
      "outputs": [
        {
          "output_type": "stream",
          "name": "stdout",
          "text": [
            "Hello, World!\n"
          ]
        }
      ]
    },
    {
      "cell_type": "markdown",
      "source": [
        "Q2> Write a Python program that displays your name and age."
      ],
      "metadata": {
        "id": "WFdZi3cygMNK"
      }
    },
    {
      "cell_type": "code",
      "source": [
        "name = \"Prasun Mondal\"\n",
        "age = 27\n",
        "\n",
        "print(\"Name:\", name)\n",
        "print(\"Age:\", age)"
      ],
      "metadata": {
        "colab": {
          "base_uri": "https://localhost:8080/"
        },
        "id": "5xDECz06gRaq",
        "outputId": "02f92a70-5614-45c5-cac7-090e9ab966c2"
      },
      "execution_count": null,
      "outputs": [
        {
          "output_type": "stream",
          "name": "stdout",
          "text": [
            "Name: Prasun Mondal\n",
            "Age: 27\n"
          ]
        }
      ]
    },
    {
      "cell_type": "markdown",
      "source": [
        "Q3> Write code to print all the pre-defined keywords in Python using the keyword library."
      ],
      "metadata": {
        "id": "ZXbSpT4i9rDS"
      }
    },
    {
      "cell_type": "code",
      "source": [
        "#Sol - 1\n",
        "help(\"keywords\")"
      ],
      "metadata": {
        "colab": {
          "base_uri": "https://localhost:8080/"
        },
        "id": "yGah2Fac-Cp9",
        "outputId": "a9db1b55-9e83-4369-a4b9-7116f9766546"
      },
      "execution_count": null,
      "outputs": [
        {
          "output_type": "stream",
          "name": "stdout",
          "text": [
            "\n",
            "Here is a list of the Python keywords.  Enter any keyword to get more help.\n",
            "\n",
            "False               class               from                or\n",
            "None                continue            global              pass\n",
            "True                def                 if                  raise\n",
            "and                 del                 import              return\n",
            "as                  elif                in                  try\n",
            "assert              else                is                  while\n",
            "async               except              lambda              with\n",
            "await               finally             nonlocal            yield\n",
            "break               for                 not                 \n",
            "\n"
          ]
        }
      ]
    },
    {
      "cell_type": "code",
      "source": [
        "#Sol-2\n",
        "import keyword\n",
        "\n",
        "# Print all the predefined keywords in Python\n",
        "print(\"Python Keywords:\", keyword.kwlist)"
      ],
      "metadata": {
        "colab": {
          "base_uri": "https://localhost:8080/"
        },
        "id": "dLsu_FOK-G3i",
        "outputId": "ed90dfe0-e9f2-4a06-945e-94fb853dff23"
      },
      "execution_count": null,
      "outputs": [
        {
          "output_type": "stream",
          "name": "stdout",
          "text": [
            "Python Keywords: ['False', 'None', 'True', 'and', 'as', 'assert', 'async', 'await', 'break', 'class', 'continue', 'def', 'del', 'elif', 'else', 'except', 'finally', 'for', 'from', 'global', 'if', 'import', 'in', 'is', 'lambda', 'nonlocal', 'not', 'or', 'pass', 'raise', 'return', 'try', 'while', 'with', 'yield']\n"
          ]
        }
      ]
    },
    {
      "cell_type": "markdown",
      "source": [
        "Q4> Write a program that checks if a given word is a Python keyword."
      ],
      "metadata": {
        "id": "wvUtlauK-ZRA"
      }
    },
    {
      "cell_type": "code",
      "source": [
        "word = input(\"Please enter your word\")\n",
        "list_keyword = ['False', 'None', 'True', 'and', 'as', 'assert', 'async', 'await', 'break', 'class', 'continue', 'def', 'del', 'elif', 'else', 'except', 'finally', 'for', 'from', 'global', 'if', 'import', 'in', 'is', 'lambda', 'nonlocal', 'not', 'or', 'pass', 'raise', 'return', 'try', 'while', 'with', 'yield']\n",
        "for x in list_keyword:\n",
        "    if x == word:\n",
        "        print(\"It is a keyword\")\n",
        "        break\n",
        "else:\n",
        "    print(\"It is not a keyword\")"
      ],
      "metadata": {
        "colab": {
          "base_uri": "https://localhost:8080/"
        },
        "id": "hiw53MuZ-kfP",
        "outputId": "98c7526b-fcb2-416c-c298-b0dec7c6175b"
      },
      "execution_count": null,
      "outputs": [
        {
          "output_type": "stream",
          "name": "stdout",
          "text": [
            "Please enter your wordFalse\n",
            "It is a keyword\n"
          ]
        }
      ]
    },
    {
      "cell_type": "markdown",
      "source": [
        "Q5> Create a list and tuple in Python, and demonstrate how attempting to change an element works differently\n",
        "for each."
      ],
      "metadata": {
        "id": "W8o7A9NT_6st"
      }
    },
    {
      "cell_type": "code",
      "source": [
        "my_list = [1, 2, 3, 4]\n",
        "my_tuple = (1, 2, 3, 4)\n",
        "my_list[1] = 99\n",
        "my_tuple[1] = 99"
      ],
      "metadata": {
        "id": "c6PpSoyC_0ya",
        "colab": {
          "base_uri": "https://localhost:8080/",
          "height": 176
        },
        "outputId": "a5d96f2d-e951-45ab-ba56-9d38be66eef1"
      },
      "execution_count": null,
      "outputs": [
        {
          "output_type": "error",
          "ename": "TypeError",
          "evalue": "'tuple' object does not support item assignment",
          "traceback": [
            "\u001b[0;31m---------------------------------------------------------------------------\u001b[0m",
            "\u001b[0;31mTypeError\u001b[0m                                 Traceback (most recent call last)",
            "\u001b[0;32m<ipython-input-3-93e00b857655>\u001b[0m in \u001b[0;36m<cell line: 4>\u001b[0;34m()\u001b[0m\n\u001b[1;32m      2\u001b[0m \u001b[0mmy_tuple\u001b[0m \u001b[0;34m=\u001b[0m \u001b[0;34m(\u001b[0m\u001b[0;36m1\u001b[0m\u001b[0;34m,\u001b[0m \u001b[0;36m2\u001b[0m\u001b[0;34m,\u001b[0m \u001b[0;36m3\u001b[0m\u001b[0;34m,\u001b[0m \u001b[0;36m4\u001b[0m\u001b[0;34m)\u001b[0m\u001b[0;34m\u001b[0m\u001b[0;34m\u001b[0m\u001b[0m\n\u001b[1;32m      3\u001b[0m \u001b[0mmy_list\u001b[0m\u001b[0;34m[\u001b[0m\u001b[0;36m1\u001b[0m\u001b[0;34m]\u001b[0m \u001b[0;34m=\u001b[0m \u001b[0;36m99\u001b[0m\u001b[0;34m\u001b[0m\u001b[0;34m\u001b[0m\u001b[0m\n\u001b[0;32m----> 4\u001b[0;31m \u001b[0mmy_tuple\u001b[0m\u001b[0;34m[\u001b[0m\u001b[0;36m1\u001b[0m\u001b[0;34m]\u001b[0m \u001b[0;34m=\u001b[0m \u001b[0;36m99\u001b[0m\u001b[0;34m\u001b[0m\u001b[0;34m\u001b[0m\u001b[0m\n\u001b[0m",
            "\u001b[0;31mTypeError\u001b[0m: 'tuple' object does not support item assignment"
          ]
        }
      ]
    },
    {
      "cell_type": "markdown",
      "source": [
        "Here, we can see that we can update the value at position = 1 for my_list but we\n",
        "unable to change for my_tuple. It throws an error. Hence my_list is update with new value by my_tupple is not."
      ],
      "metadata": {
        "id": "kgDnHsVTTnP9"
      }
    },
    {
      "cell_type": "code",
      "source": [
        "my_list"
      ],
      "metadata": {
        "colab": {
          "base_uri": "https://localhost:8080/"
        },
        "id": "dnZmrXNETVEl",
        "outputId": "382b3bc9-d7ae-4318-9dd6-a2fee8cf8100"
      },
      "execution_count": null,
      "outputs": [
        {
          "output_type": "execute_result",
          "data": {
            "text/plain": [
              "[1, 99, 3, 4]"
            ]
          },
          "metadata": {},
          "execution_count": 4
        }
      ]
    },
    {
      "cell_type": "code",
      "source": [
        "my_tuple"
      ],
      "metadata": {
        "colab": {
          "base_uri": "https://localhost:8080/"
        },
        "id": "wVPLEjZ5UKwJ",
        "outputId": "72d90e4a-0bd8-4e81-84ae-e5368fc222fe"
      },
      "execution_count": null,
      "outputs": [
        {
          "output_type": "execute_result",
          "data": {
            "text/plain": [
              "(1, 2, 3, 4)"
            ]
          },
          "metadata": {},
          "execution_count": 5
        }
      ]
    },
    {
      "cell_type": "markdown",
      "source": [
        "Q6> Write a function to demonstrate the behavior of mutable and immutable arguments."
      ],
      "metadata": {
        "id": "6lVlGVPFUSIt"
      }
    },
    {
      "cell_type": "code",
      "source": [
        "def demo_mutable_immutable_args(immutable_arg, mutable_arg):\n",
        "    # Trying to change the immutable argument (won't work)\n",
        "    print(\"Before modifying immutable_arg:\", immutable_arg)\n",
        "    immutable_arg += 10  # This will create a new integer, doesn't modify the original one\n",
        "    print(\"After modifying immutable_arg:\", immutable_arg)\n",
        "\n",
        "    # Modifying the mutable argument (will work)\n",
        "    print(\"Before modifying mutable_arg:\", mutable_arg)\n",
        "    mutable_arg[1]=10  # This modifies the original list in place 1\n",
        "    print(\"After modifying mutable_arg:\", mutable_arg)\n",
        "\n",
        "# Example usage\n",
        "immutable_example = 5\n",
        "mutable_example = [1, 2, 3]\n",
        "\n",
        "demo_mutable_immutable_args(immutable_example, mutable_example)\n",
        "\n",
        "# Checking the values outside the function\n",
        "print(\"Outside function, immutable_example:\", immutable_example)\n",
        "print(\"Outside function, mutable_example:\", mutable_example)"
      ],
      "metadata": {
        "colab": {
          "base_uri": "https://localhost:8080/"
        },
        "id": "HXbpF0qCUbQg",
        "outputId": "423e5bfc-c08b-41bb-e0f9-39be5ae6aa2a"
      },
      "execution_count": null,
      "outputs": [
        {
          "output_type": "stream",
          "name": "stdout",
          "text": [
            "Before modifying immutable_arg: 5\n",
            "After modifying immutable_arg: 15\n",
            "Before modifying mutable_arg: [1, 2, 3]\n",
            "After modifying mutable_arg: [1, 10, 3]\n",
            "Outside function, immutable_example: 5\n",
            "Outside function, mutable_example: [1, 10, 3]\n"
          ]
        }
      ]
    },
    {
      "cell_type": "markdown",
      "source": [
        "Q7> Write a function to demonstrate the behavior of mutable and immutable arguments."
      ],
      "metadata": {
        "id": "alAlVQyIXhBO"
      }
    },
    {
      "cell_type": "markdown",
      "source": [
        "Ans> This is a duplicate question to question 6 hence answer will be same"
      ],
      "metadata": {
        "id": "AH20IAzFXjQ-"
      }
    },
    {
      "cell_type": "markdown",
      "source": [
        "Q8> Write a program to demonstrate the use of logical operators."
      ],
      "metadata": {
        "id": "L4kTQUCXXvQt"
      }
    },
    {
      "cell_type": "code",
      "source": [
        "a=5\n",
        "b=6\n",
        "x=True\n",
        "y=False\n",
        "\n",
        "#example of and operator (both should to be true to give ouput true)\n",
        "print(a>3 and b<10)  # Output: True\n",
        "print (x and y) # Output: False"
      ],
      "metadata": {
        "colab": {
          "base_uri": "https://localhost:8080/"
        },
        "id": "46vcq9MgX-e-",
        "outputId": "728407e8-a7a2-4c10-b628-32dcabd8baf1"
      },
      "execution_count": null,
      "outputs": [
        {
          "output_type": "stream",
          "name": "stdout",
          "text": [
            "True\n",
            "False\n"
          ]
        }
      ]
    },
    {
      "cell_type": "code",
      "source": [
        "#example of or operator (any condition should be true to give the output true)\n",
        "print (a>3 or b<5) # Output: True\n",
        "print (x or y) # Output: True\n",
        "print (not x or y) # Output : False"
      ],
      "metadata": {
        "colab": {
          "base_uri": "https://localhost:8080/"
        },
        "id": "xRVSpAzOXu3u",
        "outputId": "466fb4fe-ee35-44f8-843a-b0631dccacfb"
      },
      "execution_count": null,
      "outputs": [
        {
          "output_type": "stream",
          "name": "stdout",
          "text": [
            "True\n",
            "True\n",
            "False\n"
          ]
        }
      ]
    },
    {
      "cell_type": "code",
      "source": [
        "#example of not operator (Reverses the result of the operand. If the operand is True, it returns False, and vice versa.)\n",
        "print(not(x == 5)) # Output: False\n",
        "print (x or y) # Output: True\n",
        "print (not x or y) # Output : False"
      ],
      "metadata": {
        "colab": {
          "base_uri": "https://localhost:8080/"
        },
        "id": "iWsa9SHlXtk4",
        "outputId": "84087cae-96a8-47d6-e3e4-125a6bfcada6"
      },
      "execution_count": null,
      "outputs": [
        {
          "output_type": "stream",
          "name": "stdout",
          "text": [
            "True\n",
            "True\n",
            "False\n"
          ]
        }
      ]
    },
    {
      "cell_type": "markdown",
      "source": [
        "Q9> Write a Python program to convert user input from string to integer, float, and boolean types."
      ],
      "metadata": {
        "id": "UoDhGguObODo"
      }
    },
    {
      "cell_type": "code",
      "source": [
        "number = input(\"Enter a number: \")\n",
        "print(\"Number printed as string: \", number)\n",
        "print(type(number)) # Gives us current data type of variable number\n",
        "print(\"Number printed as integer\", int(number)) # This may raise a ValueError if the input isn't a valid integer\n",
        "print(\"Number printed as float\", float(number)) # This may raise a ValueError if the input isn't a valid float\n",
        "print(\"Number printed as boolean\", bool(number))  # Empty string becomes False, everything else becomes True"
      ],
      "metadata": {
        "colab": {
          "base_uri": "https://localhost:8080/"
        },
        "id": "p9Gy6854bXLd",
        "outputId": "35237c1a-6079-4521-dea0-80ec4b56ebbf"
      },
      "execution_count": null,
      "outputs": [
        {
          "output_type": "stream",
          "name": "stdout",
          "text": [
            "Enter a number: 100\n",
            "Number printed as string:  100\n",
            "<class 'str'>\n",
            "Number printed as integer 100\n",
            "Number printed as float 100.0\n",
            "Number printed as boolean True\n"
          ]
        }
      ]
    },
    {
      "cell_type": "code",
      "source": [
        "number = input(\"Enter a number: \")\n",
        "print(\"Number printed as boolean\", bool(number))  # Empty string becomes False, everything else becomes True"
      ],
      "metadata": {
        "colab": {
          "base_uri": "https://localhost:8080/"
        },
        "id": "FNjeohjQbNTG",
        "outputId": "00fc50b0-14d0-41ec-d2b0-320979f60176"
      },
      "execution_count": null,
      "outputs": [
        {
          "output_type": "stream",
          "name": "stdout",
          "text": [
            "Enter a number: \n",
            "Number printed as boolean False\n"
          ]
        }
      ]
    },
    {
      "cell_type": "markdown",
      "source": [
        "Q10> Write code to demonstrate type casting with list elements."
      ],
      "metadata": {
        "id": "L54YJaEMdJr9"
      }
    },
    {
      "cell_type": "code",
      "source": [
        "# Original list with different types of elements (strings)\n",
        "string_list = [\"1\", \"2\", \"3\", \"4.5\"]\n",
        "\n",
        "# Convert all string elements in the list to integers\n",
        "print(\"Output as integer\")\n",
        "for x in string_list:\n",
        "    print(int(float(x)))# First coverting to float then string otherwise will give error because we cannot directly covert a inavlid str(containing) to int.The int() function expects a string that represents a whole number, and it doesn't handle decimal points.\n",
        "\n",
        "# Convert all elements in the list to floats\n",
        "print(\"Output as float\")\n",
        "for x in string_list:\n",
        "    print(float(x))\n",
        "\n",
        "\n",
        "# Convert all elements in the list to booleans\n",
        "print(\"Output as boolean\")\n",
        "for x in string_list:\n",
        "    print(bool(x))"
      ],
      "metadata": {
        "colab": {
          "base_uri": "https://localhost:8080/"
        },
        "id": "Ydl6CcNCjZnz",
        "outputId": "bfba906a-92b7-40da-d7da-3ad663f3478e"
      },
      "execution_count": null,
      "outputs": [
        {
          "output_type": "stream",
          "name": "stdout",
          "text": [
            "Output as integer\n",
            "1\n",
            "2\n",
            "3\n",
            "4\n",
            "Output as float\n",
            "1.0\n",
            "2.0\n",
            "3.0\n",
            "4.5\n",
            "Output as boolean\n",
            "True\n",
            "True\n",
            "True\n",
            "True\n"
          ]
        }
      ]
    },
    {
      "cell_type": "markdown",
      "source": [
        "Q11> Write a program that checks if a number is positive, negative, or zero."
      ],
      "metadata": {
        "id": "SwFMs81nogsM"
      }
    },
    {
      "cell_type": "code",
      "source": [
        "number = int(input(\"Enter a number:\"))\n",
        "if number > 0:\n",
        "    print(\"Number is positive\")\n",
        "elif number < 0:\n",
        "    print(\"Number is negative\")\n",
        "else:\n",
        "    print(\"Number is zero\")"
      ],
      "metadata": {
        "colab": {
          "base_uri": "https://localhost:8080/"
        },
        "id": "OtRJ_u-4o2Qw",
        "outputId": "afb3ce98-faf3-41f9-d750-5c6f4998978e"
      },
      "execution_count": null,
      "outputs": [
        {
          "output_type": "stream",
          "name": "stdout",
          "text": [
            "Enter a number:10\n",
            "Number is positive\n"
          ]
        }
      ]
    },
    {
      "cell_type": "markdown",
      "source": [
        "Q12> Write a for loop to print numbers from 1 to 10."
      ],
      "metadata": {
        "id": "uWQqj4CjpC1O"
      }
    },
    {
      "cell_type": "code",
      "source": [
        "a = 1\n",
        "while a<=10:\n",
        "  print(a)\n",
        "  a=a+1"
      ],
      "metadata": {
        "colab": {
          "base_uri": "https://localhost:8080/"
        },
        "id": "9PpWfpsspJHp",
        "outputId": "6b8ab13e-f327-4515-bca8-35255261ac9b"
      },
      "execution_count": null,
      "outputs": [
        {
          "output_type": "stream",
          "name": "stdout",
          "text": [
            "1\n",
            "2\n",
            "3\n",
            "4\n",
            "5\n",
            "6\n",
            "7\n",
            "8\n",
            "9\n",
            "10\n"
          ]
        }
      ]
    },
    {
      "cell_type": "markdown",
      "source": [
        "Q13> Write a Python program to find the sum of all even numbers between 1 and 50."
      ],
      "metadata": {
        "id": "0X2LDOy9pYZJ"
      }
    },
    {
      "cell_type": "code",
      "source": [
        "a=0\n",
        "sum_a=0\n",
        "while a<=50:\n",
        "  if a%2==0:\n",
        "    sum_a=sum_a+a\n",
        "    a=a+2\n",
        "print(\"Sum of all even numbers between 1 and 50 - \",sum_a)"
      ],
      "metadata": {
        "colab": {
          "base_uri": "https://localhost:8080/"
        },
        "id": "dggCUpL9pfgB",
        "outputId": "538e5a90-5099-4eef-f858-ffec6b8c98df"
      },
      "execution_count": null,
      "outputs": [
        {
          "output_type": "stream",
          "name": "stdout",
          "text": [
            "Sum of all even numbers between 1 and 50 -  650\n"
          ]
        }
      ]
    },
    {
      "cell_type": "markdown",
      "source": [],
      "metadata": {
        "id": "aw9VQ0wLjHJC"
      }
    },
    {
      "cell_type": "markdown",
      "source": [
        "Q14> Write a program to reverse a string using a while loop."
      ],
      "metadata": {
        "id": "6__JTrcJqeOI"
      }
    },
    {
      "cell_type": "code",
      "source": [
        "str_a = \"Prasun\"\n",
        "str_b =\"\"\n",
        "b=len(str_a)-1\n",
        "while b>=0:\n",
        "  str_b=str_b+str_a[b]\n",
        "  b=b-1\n",
        "print(\"Reserved String - \",str_b)"
      ],
      "metadata": {
        "colab": {
          "base_uri": "https://localhost:8080/"
        },
        "id": "Eb-l3MJpqiwy",
        "outputId": "16733bdc-70e0-4f92-bd03-5353a0fdd30a"
      },
      "execution_count": null,
      "outputs": [
        {
          "output_type": "stream",
          "name": "stdout",
          "text": [
            "Reserved String -  nusarP\n"
          ]
        }
      ]
    },
    {
      "cell_type": "markdown",
      "source": [
        "Q15> Write a Python program to calculate the factorial of a number provided by the user using a while loop."
      ],
      "metadata": {
        "id": "3GJXkEw4rLuX"
      }
    },
    {
      "cell_type": "code",
      "source": [
        "number = int(input(\"Enter a number: \"))\n",
        "factorial = 1\n",
        "current = 1\n",
        "\n",
        "while current <= number:\n",
        "    factorial *= current\n",
        "    current += 1\n",
        "print(\"Factorial of number - \",number,\" is \",factorial)"
      ],
      "metadata": {
        "colab": {
          "base_uri": "https://localhost:8080/"
        },
        "id": "JExYfxHQq5U7",
        "outputId": "e01dca34-7bd2-4949-9ca7-97bd80a8ec1e"
      },
      "execution_count": null,
      "outputs": [
        {
          "output_type": "stream",
          "name": "stdout",
          "text": [
            "Enter a number: 5\n",
            "Factorial of number -  5  is  120\n"
          ]
        }
      ]
    }
  ]
}